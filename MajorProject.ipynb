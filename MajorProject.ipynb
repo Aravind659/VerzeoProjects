{
 "cells": [
  {
   "cell_type": "markdown",
   "id": "1912309c",
   "metadata": {},
   "source": [
    "# Aravind Sai Oggu"
   ]
  },
  {
   "cell_type": "code",
   "execution_count": 2,
   "id": "b07e1315",
   "metadata": {},
   "outputs": [],
   "source": [
    "import pandas as pd\n",
    "import numpy as np\n",
    "import matplotlib.pyplot as plt"
   ]
  },
  {
   "cell_type": "code",
   "execution_count": 3,
   "id": "788110dd",
   "metadata": {},
   "outputs": [],
   "source": [
    "df=pd.read_csv(\"digit_svm.csv\")"
   ]
  },
  {
   "cell_type": "code",
   "execution_count": 4,
   "id": "06a2e335",
   "metadata": {},
   "outputs": [
    {
     "data": {
      "text/html": [
       "<div>\n",
       "<style scoped>\n",
       "    .dataframe tbody tr th:only-of-type {\n",
       "        vertical-align: middle;\n",
       "    }\n",
       "\n",
       "    .dataframe tbody tr th {\n",
       "        vertical-align: top;\n",
       "    }\n",
       "\n",
       "    .dataframe thead th {\n",
       "        text-align: right;\n",
       "    }\n",
       "</style>\n",
       "<table border=\"1\" class=\"dataframe\">\n",
       "  <thead>\n",
       "    <tr style=\"text-align: right;\">\n",
       "      <th></th>\n",
       "      <th>label</th>\n",
       "      <th>pixel0</th>\n",
       "      <th>pixel1</th>\n",
       "      <th>pixel2</th>\n",
       "      <th>pixel3</th>\n",
       "      <th>pixel4</th>\n",
       "      <th>pixel5</th>\n",
       "      <th>pixel6</th>\n",
       "      <th>pixel7</th>\n",
       "      <th>pixel8</th>\n",
       "      <th>...</th>\n",
       "      <th>pixel774</th>\n",
       "      <th>pixel775</th>\n",
       "      <th>pixel776</th>\n",
       "      <th>pixel777</th>\n",
       "      <th>pixel778</th>\n",
       "      <th>pixel779</th>\n",
       "      <th>pixel780</th>\n",
       "      <th>pixel781</th>\n",
       "      <th>pixel782</th>\n",
       "      <th>pixel783</th>\n",
       "    </tr>\n",
       "  </thead>\n",
       "  <tbody>\n",
       "    <tr>\n",
       "      <th>0</th>\n",
       "      <td>1</td>\n",
       "      <td>0</td>\n",
       "      <td>0</td>\n",
       "      <td>0</td>\n",
       "      <td>0</td>\n",
       "      <td>0</td>\n",
       "      <td>0</td>\n",
       "      <td>0</td>\n",
       "      <td>0</td>\n",
       "      <td>0</td>\n",
       "      <td>...</td>\n",
       "      <td>0</td>\n",
       "      <td>0</td>\n",
       "      <td>0</td>\n",
       "      <td>0</td>\n",
       "      <td>0</td>\n",
       "      <td>0</td>\n",
       "      <td>0</td>\n",
       "      <td>0</td>\n",
       "      <td>0</td>\n",
       "      <td>0</td>\n",
       "    </tr>\n",
       "    <tr>\n",
       "      <th>1</th>\n",
       "      <td>0</td>\n",
       "      <td>0</td>\n",
       "      <td>0</td>\n",
       "      <td>0</td>\n",
       "      <td>0</td>\n",
       "      <td>0</td>\n",
       "      <td>0</td>\n",
       "      <td>0</td>\n",
       "      <td>0</td>\n",
       "      <td>0</td>\n",
       "      <td>...</td>\n",
       "      <td>0</td>\n",
       "      <td>0</td>\n",
       "      <td>0</td>\n",
       "      <td>0</td>\n",
       "      <td>0</td>\n",
       "      <td>0</td>\n",
       "      <td>0</td>\n",
       "      <td>0</td>\n",
       "      <td>0</td>\n",
       "      <td>0</td>\n",
       "    </tr>\n",
       "    <tr>\n",
       "      <th>2</th>\n",
       "      <td>1</td>\n",
       "      <td>0</td>\n",
       "      <td>0</td>\n",
       "      <td>0</td>\n",
       "      <td>0</td>\n",
       "      <td>0</td>\n",
       "      <td>0</td>\n",
       "      <td>0</td>\n",
       "      <td>0</td>\n",
       "      <td>0</td>\n",
       "      <td>...</td>\n",
       "      <td>0</td>\n",
       "      <td>0</td>\n",
       "      <td>0</td>\n",
       "      <td>0</td>\n",
       "      <td>0</td>\n",
       "      <td>0</td>\n",
       "      <td>0</td>\n",
       "      <td>0</td>\n",
       "      <td>0</td>\n",
       "      <td>0</td>\n",
       "    </tr>\n",
       "    <tr>\n",
       "      <th>3</th>\n",
       "      <td>4</td>\n",
       "      <td>0</td>\n",
       "      <td>0</td>\n",
       "      <td>0</td>\n",
       "      <td>0</td>\n",
       "      <td>0</td>\n",
       "      <td>0</td>\n",
       "      <td>0</td>\n",
       "      <td>0</td>\n",
       "      <td>0</td>\n",
       "      <td>...</td>\n",
       "      <td>0</td>\n",
       "      <td>0</td>\n",
       "      <td>0</td>\n",
       "      <td>0</td>\n",
       "      <td>0</td>\n",
       "      <td>0</td>\n",
       "      <td>0</td>\n",
       "      <td>0</td>\n",
       "      <td>0</td>\n",
       "      <td>0</td>\n",
       "    </tr>\n",
       "    <tr>\n",
       "      <th>4</th>\n",
       "      <td>0</td>\n",
       "      <td>0</td>\n",
       "      <td>0</td>\n",
       "      <td>0</td>\n",
       "      <td>0</td>\n",
       "      <td>0</td>\n",
       "      <td>0</td>\n",
       "      <td>0</td>\n",
       "      <td>0</td>\n",
       "      <td>0</td>\n",
       "      <td>...</td>\n",
       "      <td>0</td>\n",
       "      <td>0</td>\n",
       "      <td>0</td>\n",
       "      <td>0</td>\n",
       "      <td>0</td>\n",
       "      <td>0</td>\n",
       "      <td>0</td>\n",
       "      <td>0</td>\n",
       "      <td>0</td>\n",
       "      <td>0</td>\n",
       "    </tr>\n",
       "    <tr>\n",
       "      <th>...</th>\n",
       "      <td>...</td>\n",
       "      <td>...</td>\n",
       "      <td>...</td>\n",
       "      <td>...</td>\n",
       "      <td>...</td>\n",
       "      <td>...</td>\n",
       "      <td>...</td>\n",
       "      <td>...</td>\n",
       "      <td>...</td>\n",
       "      <td>...</td>\n",
       "      <td>...</td>\n",
       "      <td>...</td>\n",
       "      <td>...</td>\n",
       "      <td>...</td>\n",
       "      <td>...</td>\n",
       "      <td>...</td>\n",
       "      <td>...</td>\n",
       "      <td>...</td>\n",
       "      <td>...</td>\n",
       "      <td>...</td>\n",
       "      <td>...</td>\n",
       "    </tr>\n",
       "    <tr>\n",
       "      <th>41995</th>\n",
       "      <td>0</td>\n",
       "      <td>0</td>\n",
       "      <td>0</td>\n",
       "      <td>0</td>\n",
       "      <td>0</td>\n",
       "      <td>0</td>\n",
       "      <td>0</td>\n",
       "      <td>0</td>\n",
       "      <td>0</td>\n",
       "      <td>0</td>\n",
       "      <td>...</td>\n",
       "      <td>0</td>\n",
       "      <td>0</td>\n",
       "      <td>0</td>\n",
       "      <td>0</td>\n",
       "      <td>0</td>\n",
       "      <td>0</td>\n",
       "      <td>0</td>\n",
       "      <td>0</td>\n",
       "      <td>0</td>\n",
       "      <td>0</td>\n",
       "    </tr>\n",
       "    <tr>\n",
       "      <th>41996</th>\n",
       "      <td>1</td>\n",
       "      <td>0</td>\n",
       "      <td>0</td>\n",
       "      <td>0</td>\n",
       "      <td>0</td>\n",
       "      <td>0</td>\n",
       "      <td>0</td>\n",
       "      <td>0</td>\n",
       "      <td>0</td>\n",
       "      <td>0</td>\n",
       "      <td>...</td>\n",
       "      <td>0</td>\n",
       "      <td>0</td>\n",
       "      <td>0</td>\n",
       "      <td>0</td>\n",
       "      <td>0</td>\n",
       "      <td>0</td>\n",
       "      <td>0</td>\n",
       "      <td>0</td>\n",
       "      <td>0</td>\n",
       "      <td>0</td>\n",
       "    </tr>\n",
       "    <tr>\n",
       "      <th>41997</th>\n",
       "      <td>7</td>\n",
       "      <td>0</td>\n",
       "      <td>0</td>\n",
       "      <td>0</td>\n",
       "      <td>0</td>\n",
       "      <td>0</td>\n",
       "      <td>0</td>\n",
       "      <td>0</td>\n",
       "      <td>0</td>\n",
       "      <td>0</td>\n",
       "      <td>...</td>\n",
       "      <td>0</td>\n",
       "      <td>0</td>\n",
       "      <td>0</td>\n",
       "      <td>0</td>\n",
       "      <td>0</td>\n",
       "      <td>0</td>\n",
       "      <td>0</td>\n",
       "      <td>0</td>\n",
       "      <td>0</td>\n",
       "      <td>0</td>\n",
       "    </tr>\n",
       "    <tr>\n",
       "      <th>41998</th>\n",
       "      <td>6</td>\n",
       "      <td>0</td>\n",
       "      <td>0</td>\n",
       "      <td>0</td>\n",
       "      <td>0</td>\n",
       "      <td>0</td>\n",
       "      <td>0</td>\n",
       "      <td>0</td>\n",
       "      <td>0</td>\n",
       "      <td>0</td>\n",
       "      <td>...</td>\n",
       "      <td>0</td>\n",
       "      <td>0</td>\n",
       "      <td>0</td>\n",
       "      <td>0</td>\n",
       "      <td>0</td>\n",
       "      <td>0</td>\n",
       "      <td>0</td>\n",
       "      <td>0</td>\n",
       "      <td>0</td>\n",
       "      <td>0</td>\n",
       "    </tr>\n",
       "    <tr>\n",
       "      <th>41999</th>\n",
       "      <td>9</td>\n",
       "      <td>0</td>\n",
       "      <td>0</td>\n",
       "      <td>0</td>\n",
       "      <td>0</td>\n",
       "      <td>0</td>\n",
       "      <td>0</td>\n",
       "      <td>0</td>\n",
       "      <td>0</td>\n",
       "      <td>0</td>\n",
       "      <td>...</td>\n",
       "      <td>0</td>\n",
       "      <td>0</td>\n",
       "      <td>0</td>\n",
       "      <td>0</td>\n",
       "      <td>0</td>\n",
       "      <td>0</td>\n",
       "      <td>0</td>\n",
       "      <td>0</td>\n",
       "      <td>0</td>\n",
       "      <td>0</td>\n",
       "    </tr>\n",
       "  </tbody>\n",
       "</table>\n",
       "<p>42000 rows × 785 columns</p>\n",
       "</div>"
      ],
      "text/plain": [
       "       label  pixel0  pixel1  pixel2  pixel3  pixel4  pixel5  pixel6  pixel7  \\\n",
       "0          1       0       0       0       0       0       0       0       0   \n",
       "1          0       0       0       0       0       0       0       0       0   \n",
       "2          1       0       0       0       0       0       0       0       0   \n",
       "3          4       0       0       0       0       0       0       0       0   \n",
       "4          0       0       0       0       0       0       0       0       0   \n",
       "...      ...     ...     ...     ...     ...     ...     ...     ...     ...   \n",
       "41995      0       0       0       0       0       0       0       0       0   \n",
       "41996      1       0       0       0       0       0       0       0       0   \n",
       "41997      7       0       0       0       0       0       0       0       0   \n",
       "41998      6       0       0       0       0       0       0       0       0   \n",
       "41999      9       0       0       0       0       0       0       0       0   \n",
       "\n",
       "       pixel8  ...  pixel774  pixel775  pixel776  pixel777  pixel778  \\\n",
       "0           0  ...         0         0         0         0         0   \n",
       "1           0  ...         0         0         0         0         0   \n",
       "2           0  ...         0         0         0         0         0   \n",
       "3           0  ...         0         0         0         0         0   \n",
       "4           0  ...         0         0         0         0         0   \n",
       "...       ...  ...       ...       ...       ...       ...       ...   \n",
       "41995       0  ...         0         0         0         0         0   \n",
       "41996       0  ...         0         0         0         0         0   \n",
       "41997       0  ...         0         0         0         0         0   \n",
       "41998       0  ...         0         0         0         0         0   \n",
       "41999       0  ...         0         0         0         0         0   \n",
       "\n",
       "       pixel779  pixel780  pixel781  pixel782  pixel783  \n",
       "0             0         0         0         0         0  \n",
       "1             0         0         0         0         0  \n",
       "2             0         0         0         0         0  \n",
       "3             0         0         0         0         0  \n",
       "4             0         0         0         0         0  \n",
       "...         ...       ...       ...       ...       ...  \n",
       "41995         0         0         0         0         0  \n",
       "41996         0         0         0         0         0  \n",
       "41997         0         0         0         0         0  \n",
       "41998         0         0         0         0         0  \n",
       "41999         0         0         0         0         0  \n",
       "\n",
       "[42000 rows x 785 columns]"
      ]
     },
     "execution_count": 4,
     "metadata": {},
     "output_type": "execute_result"
    }
   ],
   "source": [
    "df"
   ]
  },
  {
   "cell_type": "code",
   "execution_count": 5,
   "id": "60fcd31d",
   "metadata": {},
   "outputs": [],
   "source": [
    "x = df.iloc[:, 1:].values\n",
    "y = df.iloc[:, 0].values"
   ]
  },
  {
   "cell_type": "code",
   "execution_count": 6,
   "id": "2a78431d",
   "metadata": {},
   "outputs": [
    {
     "data": {
      "text/plain": [
       "array([[0, 0, 0, ..., 0, 0, 0],\n",
       "       [0, 0, 0, ..., 0, 0, 0],\n",
       "       [0, 0, 0, ..., 0, 0, 0],\n",
       "       ...,\n",
       "       [0, 0, 0, ..., 0, 0, 0],\n",
       "       [0, 0, 0, ..., 0, 0, 0],\n",
       "       [0, 0, 0, ..., 0, 0, 0]], dtype=int64)"
      ]
     },
     "execution_count": 6,
     "metadata": {},
     "output_type": "execute_result"
    }
   ],
   "source": [
    "x"
   ]
  },
  {
   "cell_type": "code",
   "execution_count": 7,
   "id": "211a58f9",
   "metadata": {},
   "outputs": [
    {
     "data": {
      "text/plain": [
       "array([1, 0, 1, ..., 7, 6, 9], dtype=int64)"
      ]
     },
     "execution_count": 7,
     "metadata": {},
     "output_type": "execute_result"
    }
   ],
   "source": [
    "y"
   ]
  },
  {
   "cell_type": "code",
   "execution_count": 8,
   "id": "02d86a1d",
   "metadata": {},
   "outputs": [],
   "source": [
    "from sklearn.model_selection import train_test_split"
   ]
  },
  {
   "cell_type": "code",
   "execution_count": 9,
   "id": "cb0fd253",
   "metadata": {},
   "outputs": [],
   "source": [
    "x_train,x_test,y_train,y_test=train_test_split(x,y,test_size=0.01,random_state=0)"
   ]
  },
  {
   "cell_type": "code",
   "execution_count": 10,
   "id": "3900360c",
   "metadata": {},
   "outputs": [
    {
     "data": {
      "text/plain": [
       "array([[0, 0, 0, ..., 0, 0, 0],\n",
       "       [0, 0, 0, ..., 0, 0, 0],\n",
       "       [0, 0, 0, ..., 0, 0, 0],\n",
       "       ...,\n",
       "       [0, 0, 0, ..., 0, 0, 0],\n",
       "       [0, 0, 0, ..., 0, 0, 0],\n",
       "       [0, 0, 0, ..., 0, 0, 0]], dtype=int64)"
      ]
     },
     "execution_count": 10,
     "metadata": {},
     "output_type": "execute_result"
    }
   ],
   "source": [
    "x_test"
   ]
  },
  {
   "cell_type": "code",
   "execution_count": 11,
   "id": "edbd3441",
   "metadata": {},
   "outputs": [
    {
     "data": {
      "text/plain": [
       "array([3, 6, 9, 5, 6, 5, 6, 0, 0, 1, 7, 1, 5, 7, 8, 1, 1, 5, 9, 6, 9, 2,\n",
       "       2, 8, 4, 6, 2, 5, 4, 4, 8, 2, 8, 9, 3, 8, 4, 5, 2, 7, 6, 3, 1, 7,\n",
       "       9, 7, 4, 2, 5, 0, 0, 3, 9, 8, 5, 1, 3, 1, 3, 5, 4, 6, 4, 7, 8, 2,\n",
       "       4, 2, 1, 2, 0, 0, 6, 5, 7, 0, 9, 1, 9, 2, 0, 4, 3, 3, 2, 8, 7, 6,\n",
       "       5, 8, 7, 9, 2, 8, 8, 4, 9, 1, 5, 1, 6, 5, 7, 9, 1, 2, 9, 4, 0, 4,\n",
       "       5, 8, 1, 3, 1, 7, 2, 5, 7, 3, 3, 7, 5, 0, 9, 3, 6, 6, 3, 3, 5, 0,\n",
       "       9, 2, 6, 0, 4, 3, 1, 7, 4, 1, 1, 9, 8, 6, 3, 7, 0, 4, 7, 3, 9, 1,\n",
       "       7, 3, 1, 5, 0, 9, 9, 1, 7, 2, 1, 1, 5, 1, 5, 6, 9, 8, 3, 4, 3, 7,\n",
       "       6, 4, 9, 1, 6, 4, 4, 3, 7, 2, 9, 3, 1, 1, 5, 7, 0, 0, 5, 1, 8, 6,\n",
       "       2, 9, 8, 5, 3, 7, 2, 6, 9, 5, 0, 3, 3, 2, 8, 6, 1, 7, 4, 8, 8, 9,\n",
       "       1, 4, 0, 1, 4, 1, 5, 2, 5, 0, 9, 2, 8, 9, 1, 4, 7, 0, 0, 5, 6, 0,\n",
       "       1, 5, 7, 7, 2, 4, 2, 1, 5, 6, 8, 2, 9, 1, 6, 1, 5, 6, 2, 2, 4, 0,\n",
       "       4, 9, 5, 4, 9, 6, 6, 4, 9, 4, 8, 7, 4, 4, 2, 4, 8, 8, 6, 8, 6, 1,\n",
       "       2, 7, 3, 8, 7, 8, 4, 1, 0, 7, 2, 0, 6, 5, 5, 0, 7, 6, 5, 0, 3, 7,\n",
       "       4, 7, 5, 9, 1, 9, 7, 3, 6, 9, 5, 3, 0, 1, 7, 1, 2, 5, 6, 6, 1, 0,\n",
       "       3, 3, 8, 6, 7, 2, 4, 7, 9, 1, 8, 7, 0, 2, 1, 9, 5, 5, 6, 9, 6, 5,\n",
       "       8, 6, 8, 9, 8, 4, 4, 3, 4, 2, 0, 8, 1, 5, 7, 5, 3, 0, 3, 5, 0, 4,\n",
       "       7, 4, 8, 1, 6, 3, 7, 3, 2, 7, 5, 6, 4, 1, 6, 3, 2, 7, 0, 4, 0, 6,\n",
       "       5, 8, 6, 3, 4, 6, 1, 2, 9, 0, 3, 0, 8, 3, 0, 0, 6, 4, 5, 1, 0, 0,\n",
       "       6, 3], dtype=int64)"
      ]
     },
     "execution_count": 11,
     "metadata": {},
     "output_type": "execute_result"
    }
   ],
   "source": [
    "y_test"
   ]
  },
  {
   "cell_type": "code",
   "execution_count": 12,
   "id": "3a3322f3",
   "metadata": {},
   "outputs": [],
   "source": [
    "from sklearn.preprocessing import StandardScaler"
   ]
  },
  {
   "cell_type": "code",
   "execution_count": 13,
   "id": "7bcc5483",
   "metadata": {},
   "outputs": [],
   "source": [
    "sc=StandardScaler()"
   ]
  },
  {
   "cell_type": "code",
   "execution_count": 14,
   "id": "f44f0ac8",
   "metadata": {},
   "outputs": [],
   "source": [
    "x_train = sc.fit_transform(x_train)\n",
    "x_test = sc.fit_transform(x_test)"
   ]
  },
  {
   "cell_type": "code",
   "execution_count": 15,
   "id": "63d88e7b",
   "metadata": {},
   "outputs": [],
   "source": [
    "from sklearn.svm import SVC"
   ]
  },
  {
   "cell_type": "code",
   "execution_count": 16,
   "id": "04d1a42b",
   "metadata": {},
   "outputs": [],
   "source": [
    "clf = SVC(kernel=\"linear\", random_state=0)"
   ]
  },
  {
   "cell_type": "code",
   "execution_count": 17,
   "id": "b09ae644",
   "metadata": {},
   "outputs": [
    {
     "data": {
      "text/plain": [
       "SVC(kernel='linear', random_state=0)"
      ]
     },
     "execution_count": 17,
     "metadata": {},
     "output_type": "execute_result"
    }
   ],
   "source": [
    "clf.fit(x_train, y_train)"
   ]
  },
  {
   "cell_type": "code",
   "execution_count": 18,
   "id": "fa227f23",
   "metadata": {},
   "outputs": [],
   "source": [
    "pred_y = clf.predict(x_test)"
   ]
  },
  {
   "cell_type": "code",
   "execution_count": 19,
   "id": "942cb0fc",
   "metadata": {},
   "outputs": [
    {
     "data": {
      "text/plain": [
       "array([3, 6, 9, 5, 6, 4, 6, 0, 0, 1, 7, 1, 5, 7, 8, 1, 1, 5, 9, 6, 9, 2,\n",
       "       2, 8, 4, 6, 2, 5, 4, 4, 8, 2, 8, 9, 3, 8, 4, 5, 2, 7, 6, 3, 1, 7,\n",
       "       9, 7, 4, 2, 5, 0, 0, 3, 9, 8, 5, 1, 3, 1, 3, 5, 4, 6, 4, 3, 8, 2,\n",
       "       4, 8, 1, 2, 0, 0, 6, 5, 7, 0, 9, 1, 9, 2, 0, 4, 3, 3, 2, 8, 7, 2,\n",
       "       5, 8, 7, 9, 2, 8, 8, 4, 9, 1, 5, 1, 6, 5, 7, 9, 1, 2, 9, 4, 0, 4,\n",
       "       5, 8, 1, 3, 1, 7, 2, 5, 7, 3, 3, 7, 5, 0, 9, 3, 6, 6, 3, 3, 6, 0,\n",
       "       9, 2, 6, 0, 4, 2, 1, 7, 4, 1, 1, 9, 8, 6, 3, 7, 0, 4, 7, 3, 9, 1,\n",
       "       7, 3, 1, 3, 0, 9, 9, 1, 7, 2, 1, 1, 5, 1, 5, 6, 9, 1, 1, 4, 3, 7,\n",
       "       6, 4, 9, 1, 6, 4, 4, 3, 7, 2, 9, 3, 1, 1, 5, 7, 0, 0, 5, 1, 8, 6,\n",
       "       2, 9, 1, 5, 3, 8, 2, 6, 9, 5, 0, 3, 5, 2, 8, 6, 1, 7, 8, 8, 8, 9,\n",
       "       1, 4, 0, 1, 4, 1, 5, 2, 5, 0, 9, 2, 9, 9, 1, 4, 7, 0, 0, 5, 6, 0,\n",
       "       1, 5, 7, 7, 2, 4, 2, 1, 5, 6, 8, 2, 9, 1, 6, 1, 5, 4, 2, 2, 4, 0,\n",
       "       4, 9, 5, 4, 9, 6, 6, 4, 9, 4, 8, 7, 4, 4, 2, 4, 8, 5, 6, 8, 6, 1,\n",
       "       2, 7, 3, 1, 7, 3, 4, 1, 0, 7, 2, 0, 6, 5, 5, 0, 7, 2, 5, 0, 3, 7,\n",
       "       4, 7, 5, 9, 1, 9, 7, 3, 6, 9, 5, 3, 0, 1, 7, 1, 2, 5, 6, 6, 1, 0,\n",
       "       3, 3, 8, 6, 7, 2, 4, 7, 9, 1, 8, 7, 0, 2, 1, 9, 5, 5, 6, 9, 6, 5,\n",
       "       8, 6, 8, 9, 8, 4, 6, 3, 4, 2, 0, 8, 1, 5, 7, 5, 3, 0, 3, 5, 0, 4,\n",
       "       7, 4, 8, 1, 6, 3, 7, 3, 2, 7, 5, 6, 4, 1, 6, 3, 2, 7, 0, 4, 0, 6,\n",
       "       5, 8, 6, 3, 4, 6, 1, 2, 9, 0, 3, 4, 8, 3, 0, 0, 6, 4, 5, 1, 6, 0,\n",
       "       6, 3], dtype=int64)"
      ]
     },
     "execution_count": 19,
     "metadata": {},
     "output_type": "execute_result"
    }
   ],
   "source": [
    "pred_y"
   ]
  },
  {
   "cell_type": "code",
   "execution_count": 20,
   "id": "3af81ec8",
   "metadata": {},
   "outputs": [
    {
     "data": {
      "text/plain": [
       "array([3, 6, 9, 5, 6, 5, 6, 0, 0, 1, 7, 1, 5, 7, 8, 1, 1, 5, 9, 6, 9, 2,\n",
       "       2, 8, 4, 6, 2, 5, 4, 4, 8, 2, 8, 9, 3, 8, 4, 5, 2, 7, 6, 3, 1, 7,\n",
       "       9, 7, 4, 2, 5, 0, 0, 3, 9, 8, 5, 1, 3, 1, 3, 5, 4, 6, 4, 7, 8, 2,\n",
       "       4, 2, 1, 2, 0, 0, 6, 5, 7, 0, 9, 1, 9, 2, 0, 4, 3, 3, 2, 8, 7, 6,\n",
       "       5, 8, 7, 9, 2, 8, 8, 4, 9, 1, 5, 1, 6, 5, 7, 9, 1, 2, 9, 4, 0, 4,\n",
       "       5, 8, 1, 3, 1, 7, 2, 5, 7, 3, 3, 7, 5, 0, 9, 3, 6, 6, 3, 3, 5, 0,\n",
       "       9, 2, 6, 0, 4, 3, 1, 7, 4, 1, 1, 9, 8, 6, 3, 7, 0, 4, 7, 3, 9, 1,\n",
       "       7, 3, 1, 5, 0, 9, 9, 1, 7, 2, 1, 1, 5, 1, 5, 6, 9, 8, 3, 4, 3, 7,\n",
       "       6, 4, 9, 1, 6, 4, 4, 3, 7, 2, 9, 3, 1, 1, 5, 7, 0, 0, 5, 1, 8, 6,\n",
       "       2, 9, 8, 5, 3, 7, 2, 6, 9, 5, 0, 3, 3, 2, 8, 6, 1, 7, 4, 8, 8, 9,\n",
       "       1, 4, 0, 1, 4, 1, 5, 2, 5, 0, 9, 2, 8, 9, 1, 4, 7, 0, 0, 5, 6, 0,\n",
       "       1, 5, 7, 7, 2, 4, 2, 1, 5, 6, 8, 2, 9, 1, 6, 1, 5, 6, 2, 2, 4, 0,\n",
       "       4, 9, 5, 4, 9, 6, 6, 4, 9, 4, 8, 7, 4, 4, 2, 4, 8, 8, 6, 8, 6, 1,\n",
       "       2, 7, 3, 8, 7, 8, 4, 1, 0, 7, 2, 0, 6, 5, 5, 0, 7, 6, 5, 0, 3, 7,\n",
       "       4, 7, 5, 9, 1, 9, 7, 3, 6, 9, 5, 3, 0, 1, 7, 1, 2, 5, 6, 6, 1, 0,\n",
       "       3, 3, 8, 6, 7, 2, 4, 7, 9, 1, 8, 7, 0, 2, 1, 9, 5, 5, 6, 9, 6, 5,\n",
       "       8, 6, 8, 9, 8, 4, 4, 3, 4, 2, 0, 8, 1, 5, 7, 5, 3, 0, 3, 5, 0, 4,\n",
       "       7, 4, 8, 1, 6, 3, 7, 3, 2, 7, 5, 6, 4, 1, 6, 3, 2, 7, 0, 4, 0, 6,\n",
       "       5, 8, 6, 3, 4, 6, 1, 2, 9, 0, 3, 0, 8, 3, 0, 0, 6, 4, 5, 1, 0, 0,\n",
       "       6, 3], dtype=int64)"
      ]
     },
     "execution_count": 20,
     "metadata": {},
     "output_type": "execute_result"
    }
   ],
   "source": [
    "y_test"
   ]
  },
  {
   "cell_type": "code",
   "execution_count": 21,
   "id": "1f195296",
   "metadata": {},
   "outputs": [],
   "source": [
    "from sklearn.metrics import confusion_matrix, accuracy_score"
   ]
  },
  {
   "cell_type": "code",
   "execution_count": 22,
   "id": "1bdf74e8",
   "metadata": {},
   "outputs": [
    {
     "data": {
      "text/plain": [
       "array([[39,  0,  0,  0,  1,  0,  1,  0,  0,  0],\n",
       "       [ 0, 49,  0,  0,  0,  0,  0,  0,  0,  0],\n",
       "       [ 0,  0, 36,  0,  0,  0,  0,  0,  1,  0],\n",
       "       [ 0,  1,  1, 38,  0,  1,  0,  0,  0,  0],\n",
       "       [ 0,  0,  0,  0, 42,  0,  1,  0,  1,  0],\n",
       "       [ 0,  0,  0,  1,  1, 43,  1,  0,  0,  0],\n",
       "       [ 0,  0,  2,  0,  1,  0, 42,  0,  0,  0],\n",
       "       [ 0,  0,  0,  1,  0,  0,  0, 41,  1,  0],\n",
       "       [ 0,  3,  0,  1,  0,  1,  0,  0, 30,  1],\n",
       "       [ 0,  0,  0,  0,  0,  0,  0,  0,  0, 38]], dtype=int64)"
      ]
     },
     "execution_count": 22,
     "metadata": {},
     "output_type": "execute_result"
    }
   ],
   "source": [
    "confusion_matrix(y_test, pred_y)"
   ]
  },
  {
   "cell_type": "code",
   "execution_count": 23,
   "id": "5c7e35e1",
   "metadata": {},
   "outputs": [
    {
     "data": {
      "text/plain": [
       "0.9476190476190476"
      ]
     },
     "execution_count": 23,
     "metadata": {},
     "output_type": "execute_result"
    }
   ],
   "source": [
    "accuracy_score(y_test, pred_y)"
   ]
  },
  {
   "cell_type": "code",
   "execution_count": 24,
   "id": "b4cdd01b",
   "metadata": {},
   "outputs": [],
   "source": [
    "clf1 = SVC(kernel=\"rbf\", random_state=0)"
   ]
  },
  {
   "cell_type": "code",
   "execution_count": 25,
   "id": "6fc2844f",
   "metadata": {},
   "outputs": [
    {
     "data": {
      "text/plain": [
       "SVC(random_state=0)"
      ]
     },
     "execution_count": 25,
     "metadata": {},
     "output_type": "execute_result"
    }
   ],
   "source": [
    "clf1.fit(x_train, y_train)"
   ]
  },
  {
   "cell_type": "code",
   "execution_count": 26,
   "id": "6628e2c3",
   "metadata": {},
   "outputs": [],
   "source": [
    "pred_y1 = clf1.predict(x_test)"
   ]
  },
  {
   "cell_type": "code",
   "execution_count": 27,
   "id": "d4d03602",
   "metadata": {},
   "outputs": [
    {
     "data": {
      "text/plain": [
       "array([3, 6, 9, 5, 6, 5, 6, 0, 0, 1, 7, 1, 5, 7, 8, 1, 1, 5, 9, 6, 9, 2,\n",
       "       2, 8, 4, 6, 2, 5, 4, 4, 8, 2, 8, 9, 3, 8, 4, 5, 2, 7, 6, 3, 1, 7,\n",
       "       9, 7, 4, 2, 5, 0, 0, 3, 8, 8, 5, 1, 3, 1, 3, 5, 4, 6, 9, 7, 8, 2,\n",
       "       4, 8, 1, 2, 0, 0, 6, 5, 7, 0, 9, 1, 9, 2, 0, 4, 3, 3, 2, 8, 7, 2,\n",
       "       5, 8, 7, 9, 2, 8, 8, 4, 9, 1, 5, 1, 6, 5, 7, 9, 1, 2, 9, 4, 0, 4,\n",
       "       5, 8, 1, 3, 1, 7, 2, 5, 7, 3, 3, 7, 5, 0, 9, 3, 6, 6, 3, 3, 5, 0,\n",
       "       9, 2, 6, 0, 4, 3, 1, 7, 4, 1, 1, 9, 8, 6, 3, 7, 0, 4, 7, 3, 9, 1,\n",
       "       7, 3, 1, 5, 0, 9, 9, 1, 7, 2, 1, 1, 5, 1, 5, 6, 9, 8, 3, 4, 3, 7,\n",
       "       6, 4, 9, 1, 6, 4, 4, 3, 7, 2, 9, 3, 1, 1, 5, 7, 0, 0, 5, 1, 8, 6,\n",
       "       2, 9, 8, 5, 3, 8, 2, 6, 9, 5, 0, 3, 3, 2, 8, 6, 1, 7, 9, 8, 8, 9,\n",
       "       1, 4, 0, 1, 4, 1, 5, 2, 5, 0, 9, 2, 8, 9, 1, 4, 7, 0, 0, 5, 6, 0,\n",
       "       1, 5, 7, 7, 2, 4, 2, 1, 5, 6, 8, 2, 9, 1, 6, 1, 5, 6, 2, 2, 4, 0,\n",
       "       4, 9, 5, 4, 9, 6, 6, 4, 9, 4, 8, 7, 4, 4, 2, 4, 8, 5, 6, 8, 6, 1,\n",
       "       2, 7, 3, 8, 7, 8, 4, 1, 0, 7, 2, 0, 6, 5, 5, 0, 7, 6, 5, 0, 3, 7,\n",
       "       4, 7, 5, 9, 1, 9, 7, 3, 6, 9, 5, 3, 0, 1, 7, 1, 2, 5, 6, 6, 1, 0,\n",
       "       3, 3, 8, 6, 7, 2, 4, 7, 9, 1, 8, 7, 0, 2, 1, 9, 5, 5, 6, 9, 6, 5,\n",
       "       8, 6, 8, 9, 8, 4, 6, 3, 4, 2, 0, 8, 1, 5, 7, 5, 3, 0, 3, 5, 0, 4,\n",
       "       7, 4, 8, 1, 6, 3, 7, 3, 2, 7, 5, 6, 4, 1, 6, 3, 2, 7, 0, 4, 0, 6,\n",
       "       5, 8, 6, 3, 4, 6, 1, 2, 9, 0, 3, 4, 8, 3, 0, 0, 6, 4, 5, 1, 0, 0,\n",
       "       6, 3], dtype=int64)"
      ]
     },
     "execution_count": 27,
     "metadata": {},
     "output_type": "execute_result"
    }
   ],
   "source": [
    "pred_y1"
   ]
  },
  {
   "cell_type": "code",
   "execution_count": 28,
   "id": "548d64e1",
   "metadata": {},
   "outputs": [
    {
     "data": {
      "text/plain": [
       "array([3, 6, 9, 5, 6, 5, 6, 0, 0, 1, 7, 1, 5, 7, 8, 1, 1, 5, 9, 6, 9, 2,\n",
       "       2, 8, 4, 6, 2, 5, 4, 4, 8, 2, 8, 9, 3, 8, 4, 5, 2, 7, 6, 3, 1, 7,\n",
       "       9, 7, 4, 2, 5, 0, 0, 3, 9, 8, 5, 1, 3, 1, 3, 5, 4, 6, 4, 7, 8, 2,\n",
       "       4, 2, 1, 2, 0, 0, 6, 5, 7, 0, 9, 1, 9, 2, 0, 4, 3, 3, 2, 8, 7, 6,\n",
       "       5, 8, 7, 9, 2, 8, 8, 4, 9, 1, 5, 1, 6, 5, 7, 9, 1, 2, 9, 4, 0, 4,\n",
       "       5, 8, 1, 3, 1, 7, 2, 5, 7, 3, 3, 7, 5, 0, 9, 3, 6, 6, 3, 3, 5, 0,\n",
       "       9, 2, 6, 0, 4, 3, 1, 7, 4, 1, 1, 9, 8, 6, 3, 7, 0, 4, 7, 3, 9, 1,\n",
       "       7, 3, 1, 5, 0, 9, 9, 1, 7, 2, 1, 1, 5, 1, 5, 6, 9, 8, 3, 4, 3, 7,\n",
       "       6, 4, 9, 1, 6, 4, 4, 3, 7, 2, 9, 3, 1, 1, 5, 7, 0, 0, 5, 1, 8, 6,\n",
       "       2, 9, 8, 5, 3, 7, 2, 6, 9, 5, 0, 3, 3, 2, 8, 6, 1, 7, 4, 8, 8, 9,\n",
       "       1, 4, 0, 1, 4, 1, 5, 2, 5, 0, 9, 2, 8, 9, 1, 4, 7, 0, 0, 5, 6, 0,\n",
       "       1, 5, 7, 7, 2, 4, 2, 1, 5, 6, 8, 2, 9, 1, 6, 1, 5, 6, 2, 2, 4, 0,\n",
       "       4, 9, 5, 4, 9, 6, 6, 4, 9, 4, 8, 7, 4, 4, 2, 4, 8, 8, 6, 8, 6, 1,\n",
       "       2, 7, 3, 8, 7, 8, 4, 1, 0, 7, 2, 0, 6, 5, 5, 0, 7, 6, 5, 0, 3, 7,\n",
       "       4, 7, 5, 9, 1, 9, 7, 3, 6, 9, 5, 3, 0, 1, 7, 1, 2, 5, 6, 6, 1, 0,\n",
       "       3, 3, 8, 6, 7, 2, 4, 7, 9, 1, 8, 7, 0, 2, 1, 9, 5, 5, 6, 9, 6, 5,\n",
       "       8, 6, 8, 9, 8, 4, 4, 3, 4, 2, 0, 8, 1, 5, 7, 5, 3, 0, 3, 5, 0, 4,\n",
       "       7, 4, 8, 1, 6, 3, 7, 3, 2, 7, 5, 6, 4, 1, 6, 3, 2, 7, 0, 4, 0, 6,\n",
       "       5, 8, 6, 3, 4, 6, 1, 2, 9, 0, 3, 0, 8, 3, 0, 0, 6, 4, 5, 1, 0, 0,\n",
       "       6, 3], dtype=int64)"
      ]
     },
     "execution_count": 28,
     "metadata": {},
     "output_type": "execute_result"
    }
   ],
   "source": [
    "y_test"
   ]
  },
  {
   "cell_type": "code",
   "execution_count": 29,
   "id": "ae2bfd08",
   "metadata": {},
   "outputs": [
    {
     "data": {
      "text/plain": [
       "array([[40,  0,  0,  0,  1,  0,  0,  0,  0,  0],\n",
       "       [ 0, 49,  0,  0,  0,  0,  0,  0,  0,  0],\n",
       "       [ 0,  0, 36,  0,  0,  0,  0,  0,  1,  0],\n",
       "       [ 0,  0,  0, 41,  0,  0,  0,  0,  0,  0],\n",
       "       [ 0,  0,  0,  0, 41,  0,  1,  0,  0,  2],\n",
       "       [ 0,  0,  0,  0,  0, 46,  0,  0,  0,  0],\n",
       "       [ 0,  0,  1,  0,  0,  0, 44,  0,  0,  0],\n",
       "       [ 0,  0,  0,  0,  0,  0,  0, 42,  1,  0],\n",
       "       [ 0,  0,  0,  0,  0,  1,  0,  0, 35,  0],\n",
       "       [ 0,  0,  0,  0,  0,  0,  0,  0,  1, 37]], dtype=int64)"
      ]
     },
     "execution_count": 29,
     "metadata": {},
     "output_type": "execute_result"
    }
   ],
   "source": [
    "confusion_matrix(y_test, pred_y1)"
   ]
  },
  {
   "cell_type": "code",
   "execution_count": 30,
   "id": "a7cddeae",
   "metadata": {},
   "outputs": [
    {
     "data": {
      "text/plain": [
       "0.9785714285714285"
      ]
     },
     "execution_count": 30,
     "metadata": {},
     "output_type": "execute_result"
    }
   ],
   "source": [
    "accuracy_score(y_test, pred_y1)"
   ]
  },
  {
   "cell_type": "code",
   "execution_count": null,
   "id": "1ab7badd",
   "metadata": {},
   "outputs": [],
   "source": []
  }
 ],
 "metadata": {
  "kernelspec": {
   "display_name": "Python 3",
   "language": "python",
   "name": "python3"
  },
  "language_info": {
   "codemirror_mode": {
    "name": "ipython",
    "version": 3
   },
   "file_extension": ".py",
   "mimetype": "text/x-python",
   "name": "python",
   "nbconvert_exporter": "python",
   "pygments_lexer": "ipython3",
   "version": "3.8.8"
  }
 },
 "nbformat": 4,
 "nbformat_minor": 5
}
